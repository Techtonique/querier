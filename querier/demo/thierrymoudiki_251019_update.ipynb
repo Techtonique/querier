{
  "nbformat": 4,
  "nbformat_minor": 0,
  "metadata": {
    "colab": {
      "name": "querier_update.ipynb",
      "provenance": []
    },
    "kernelspec": {
      "name": "python3",
      "display_name": "Python 3"
    }
  },
  "cells": [
    {
      "cell_type": "markdown",
      "metadata": {
        "id": "_jCaX27Tcob-",
        "colab_type": "text"
      },
      "source": [
        "This notebook presents some examples of use of [the querier](https://github.com/thierrymoudiki/querier), a query language for Python pandas Data Frames.\n",
        "\n",
        "Here, the focus is placed on function `update`. We start by installing the package from Github:"
      ]
    },
    {
      "cell_type": "code",
      "metadata": {
        "id": "xj9bOQw4cdI1",
        "colab_type": "code",
        "colab": {}
      },
      "source": [
        "pip install git+https://github.com/thierrymoudiki/querier.git"
      ],
      "execution_count": 0,
      "outputs": []
    },
    {
      "cell_type": "markdown",
      "metadata": {
        "id": "4rshpBrkdo_i",
        "colab_type": "text"
      },
      "source": [
        "Importing the packages necessary for our demo:"
      ]
    },
    {
      "cell_type": "code",
      "metadata": {
        "id": "gBtleE3-djIA",
        "colab_type": "code",
        "colab": {}
      },
      "source": [
        "import pandas as pd\n",
        "import querier as qr\n",
        "import numpy as np"
      ],
      "execution_count": 0,
      "outputs": []
    },
    {
      "cell_type": "markdown",
      "metadata": {
        "id": "FhQNfXeAfRPK",
        "colab_type": "text"
      },
      "source": [
        "Importing the dataset necessary for our demo:"
      ]
    },
    {
      "cell_type": "code",
      "metadata": {
        "id": "90exDPOudaI1",
        "colab_type": "code",
        "outputId": "1b12f051-2d90-478f-90a5-59848b6e0496",
        "colab": {
          "base_uri": "https://localhost:8080/",
          "height": 121
        }
      },
      "source": [
        "url = ('https://raw.github.com/pandas-dev'\n",
        "   '/pandas/master/pandas/tests/data/tips.csv')\n",
        "df = pd.read_csv(url)\n",
        "print(df.head())"
      ],
      "execution_count": 3,
      "outputs": [
        {
          "output_type": "stream",
          "text": [
            "   total_bill   tip     sex smoker  day    time  size\n",
            "0       16.99  1.01  Female     No  Sun  Dinner     2\n",
            "1       10.34  1.66    Male     No  Sun  Dinner     3\n",
            "2       21.01  3.50    Male     No  Sun  Dinner     3\n",
            "3       23.68  3.31    Male     No  Sun  Dinner     2\n",
            "4       24.59  3.61  Female     No  Sun  Dinner     4\n"
          ],
          "name": "stdout"
        }
      ]
    },
    {
      "cell_type": "markdown",
      "metadata": {
        "id": "ScxfxuOsfVfe",
        "colab_type": "text"
      },
      "source": [
        "Using `qr.update\n",
        "`:"
      ]
    },
    {
      "cell_type": "code",
      "metadata": {
        "id": "kyO5Czpr3zhw",
        "colab_type": "code",
        "colab": {
          "base_uri": "https://localhost:8080/",
          "height": 121
        },
        "outputId": "ce471d45-f220-4a75-8d92-ee63cf9f7f25"
      },
      "source": [
        "df1 = qr.update(df, \"tip = 2*tip\")  \n",
        "print(df1.head())"
      ],
      "execution_count": 4,
      "outputs": [
        {
          "output_type": "stream",
          "text": [
            "   total_bill   tip     sex smoker  day    time  size\n",
            "0       16.99  2.02  Female     No  Sun  Dinner     2\n",
            "1       10.34  3.32    Male     No  Sun  Dinner     3\n",
            "2       21.01  7.00    Male     No  Sun  Dinner     3\n",
            "3       23.68  6.62    Male     No  Sun  Dinner     2\n",
            "4       24.59  7.22  Female     No  Sun  Dinner     4\n"
          ],
          "name": "stdout"
        }
      ]
    },
    {
      "cell_type": "code",
      "metadata": {
        "id": "1YHS1VrW4m74",
        "colab_type": "code",
        "colab": {
          "base_uri": "https://localhost:8080/",
          "height": 121
        },
        "outputId": "5059800a-333c-4833-b66f-e699ddf3efff"
      },
      "source": [
        "df2 = qr.update(df, \"new_tip = 3*tip\")  \n",
        "print(df2.head())"
      ],
      "execution_count": 5,
      "outputs": [
        {
          "output_type": "stream",
          "text": [
            "   total_bill   tip     sex smoker  day    time  size  new_tip\n",
            "0       16.99  2.02  Female     No  Sun  Dinner     2     6.06\n",
            "1       10.34  3.32    Male     No  Sun  Dinner     3     9.96\n",
            "2       21.01  7.00    Male     No  Sun  Dinner     3    21.00\n",
            "3       23.68  6.62    Male     No  Sun  Dinner     2    19.86\n",
            "4       24.59  7.22  Female     No  Sun  Dinner     4    21.66\n"
          ],
          "name": "stdout"
        }
      ]
    },
    {
      "cell_type": "code",
      "metadata": {
        "id": "ecc84sj34rkt",
        "colab_type": "code",
        "colab": {
          "base_uri": "https://localhost:8080/",
          "height": 121
        },
        "outputId": "783f5133-4de9-45b7-c609-5fdf0e0bc699"
      },
      "source": [
        "df3 = qr.update(df, \"size = 2+size\")  \n",
        "print(df3.head())"
      ],
      "execution_count": 6,
      "outputs": [
        {
          "output_type": "stream",
          "text": [
            "   total_bill   tip     sex smoker  day    time  size  new_tip\n",
            "0       16.99  2.02  Female     No  Sun  Dinner     4     6.06\n",
            "1       10.34  3.32    Male     No  Sun  Dinner     5     9.96\n",
            "2       21.01  7.00    Male     No  Sun  Dinner     5    21.00\n",
            "3       23.68  6.62    Male     No  Sun  Dinner     4    19.86\n",
            "4       24.59  7.22  Female     No  Sun  Dinner     6    21.66\n"
          ],
          "name": "stdout"
        }
      ]
    },
    {
      "cell_type": "code",
      "metadata": {
        "id": "JwTSG_lX4tkN",
        "colab_type": "code",
        "colab": {
          "base_uri": "https://localhost:8080/",
          "height": 121
        },
        "outputId": "40fa5620-9d9d-4d17-b764-881123c88e2c"
      },
      "source": [
        "df4 = qr.update(df, \"new_size = 3+size\")  \n",
        "print(df4.head())"
      ],
      "execution_count": 7,
      "outputs": [
        {
          "output_type": "stream",
          "text": [
            "   total_bill   tip     sex smoker  day    time  size  new_tip  new_size\n",
            "0       16.99  2.02  Female     No  Sun  Dinner     4     6.06         7\n",
            "1       10.34  3.32    Male     No  Sun  Dinner     5     9.96         8\n",
            "2       21.01  7.00    Male     No  Sun  Dinner     5    21.00         8\n",
            "3       23.68  6.62    Male     No  Sun  Dinner     4    19.86         7\n",
            "4       24.59  7.22  Female     No  Sun  Dinner     6    21.66         9\n"
          ],
          "name": "stdout"
        }
      ]
    },
    {
      "cell_type": "code",
      "metadata": {
        "id": "AICCD6Wm4vaR",
        "colab_type": "code",
        "colab": {
          "base_uri": "https://localhost:8080/",
          "height": 121
        },
        "outputId": "22fb7437-d7d6-4f66-98d9-f7199e157ae4"
      },
      "source": [
        "df5 = qr.update(df, \"tip = tip-1\")  \n",
        "print(df5.head())"
      ],
      "execution_count": 8,
      "outputs": [
        {
          "output_type": "stream",
          "text": [
            "   total_bill   tip     sex smoker  day    time  size  new_tip  new_size\n",
            "0       16.99  1.02  Female     No  Sun  Dinner     4     6.06         7\n",
            "1       10.34  2.32    Male     No  Sun  Dinner     5     9.96         8\n",
            "2       21.01  6.00    Male     No  Sun  Dinner     5    21.00         8\n",
            "3       23.68  5.62    Male     No  Sun  Dinner     4    19.86         7\n",
            "4       24.59  6.22  Female     No  Sun  Dinner     6    21.66         9\n"
          ],
          "name": "stdout"
        }
      ]
    },
    {
      "cell_type": "code",
      "metadata": {
        "id": "U7gGxo564xB0",
        "colab_type": "code",
        "colab": {
          "base_uri": "https://localhost:8080/",
          "height": 121
        },
        "outputId": "726c4e4d-2934-4fc3-f207-233861db2a41"
      },
      "source": [
        "df6 = qr.update(df, \"new_tip = tip+3\") \n",
        "print(df6.head())"
      ],
      "execution_count": 9,
      "outputs": [
        {
          "output_type": "stream",
          "text": [
            "   total_bill   tip     sex smoker  day    time  size  new_tip  new_size\n",
            "0       16.99  1.02  Female     No  Sun  Dinner     4     4.02         7\n",
            "1       10.34  2.32    Male     No  Sun  Dinner     5     5.32         8\n",
            "2       21.01  6.00    Male     No  Sun  Dinner     5     9.00         8\n",
            "3       23.68  5.62    Male     No  Sun  Dinner     4     8.62         7\n",
            "4       24.59  6.22  Female     No  Sun  Dinner     6     9.22         9\n"
          ],
          "name": "stdout"
        }
      ]
    }
  ]
}