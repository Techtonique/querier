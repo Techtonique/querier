{
  "nbformat": 4,
  "nbformat_minor": 0,
  "metadata": {
    "colab": {
      "name": "querier_summarize.ipynb",
      "provenance": []
    },
    "kernelspec": {
      "name": "python3",
      "display_name": "Python 3"
    }
  },
  "cells": [
    {
      "cell_type": "markdown",
      "metadata": {
        "id": "_jCaX27Tcob-",
        "colab_type": "text"
      },
      "source": [
        "This notebook presents some examples of use of [the querier](https://github.com/thierrymoudiki/querier), a query language for Python pandas Data Frames.\n",
        "\n",
        "Here, the focus is placed on function `summarize`. We start by installing the package from Github:"
      ]
    },
    {
      "cell_type": "code",
      "metadata": {
        "id": "xj9bOQw4cdI1",
        "colab_type": "code",
        "colab": {}
      },
      "source": [
        "pip install git+https://github.com/thierrymoudiki/querier.git"
      ],
      "execution_count": 0,
      "outputs": []
    },
    {
      "cell_type": "markdown",
      "metadata": {
        "id": "4rshpBrkdo_i",
        "colab_type": "text"
      },
      "source": [
        "Importing the packages necessary for our demo:"
      ]
    },
    {
      "cell_type": "code",
      "metadata": {
        "id": "gBtleE3-djIA",
        "colab_type": "code",
        "colab": {}
      },
      "source": [
        "import pandas as pd\n",
        "import querier as qr"
      ],
      "execution_count": 0,
      "outputs": []
    },
    {
      "cell_type": "markdown",
      "metadata": {
        "id": "FhQNfXeAfRPK",
        "colab_type": "text"
      },
      "source": [
        "Importing the dataset necessary for our demo:"
      ]
    },
    {
      "cell_type": "code",
      "metadata": {
        "id": "90exDPOudaI1",
        "colab_type": "code",
        "colab": {}
      },
      "source": [
        "url = ('https://raw.github.com/pandas-dev'\n",
        "   '/pandas/master/pandas/tests/data/tips.csv')\n",
        "df = pd.read_csv(url)"
      ],
      "execution_count": 0,
      "outputs": []
    },
    {
      "cell_type": "markdown",
      "metadata": {
        "id": "ScxfxuOsfVfe",
        "colab_type": "text"
      },
      "source": [
        "Using `qr.summarize`:"
      ]
    },
    {
      "cell_type": "code",
      "metadata": {
        "id": "C4u5kQjEiduY",
        "colab_type": "code",
        "colab": {
          "base_uri": "https://localhost:8080/",
          "height": 104
        },
        "outputId": "04e9eb3f-7658-4937-a1c4-732f1c7db10d"
      },
      "source": [
        "df1 = qr.summarize(df, req = \"avg(tip), avg(size), sex, time\",\n",
        "                           group_by = \"sex, time\")\n",
        "print(df1)                "
      ],
      "execution_count": 4,
      "outputs": [
        {
          "output_type": "stream",
          "text": [
            "    avg_tip  avg_size     sex    time\n",
            "0  3.002115  2.461538  Female  Dinner\n",
            "1  2.582857  2.457143  Female   Lunch\n",
            "2  3.144839  2.701613    Male  Dinner\n",
            "3  2.882121  2.363636    Male   Lunch\n"
          ],
          "name": "stdout"
        }
      ]
    },
    {
      "cell_type": "code",
      "metadata": {
        "id": "3OmaXPrJijJi",
        "colab_type": "code",
        "colab": {
          "base_uri": "https://localhost:8080/",
          "height": 69
        },
        "outputId": "9d285c43-b4f1-475e-ec7e-f54cc73946cf"
      },
      "source": [
        "df2 = qr.summarize(df, req =\"avg(tip), avg(size), sex, smoker\",\n",
        "                           group_by = \"smoker\") \n",
        "print(df2)   "
      ],
      "execution_count": 5,
      "outputs": [
        {
          "output_type": "stream",
          "text": [
            "    avg_tip  avg_size     sex smoker\n",
            "0  2.991854  2.668874  Female     No\n",
            "1  3.008710  2.408602    Male    Yes\n"
          ],
          "name": "stdout"
        }
      ]
    },
    {
      "cell_type": "code",
      "metadata": {
        "id": "xlOpn8wUikQ2",
        "colab_type": "code",
        "colab": {
          "base_uri": "https://localhost:8080/",
          "height": 104
        },
        "outputId": "bee3c821-56b4-4895-a4ad-15f50b466ff0"
      },
      "source": [
        "df['id'] = range(df.shape[0])\n",
        "df3 = qr.summarize(df, req = \"avg(tip), avg(size), count(id), sex, time\",\n",
        "                    group_by = \"sex, time\")\n",
        "print(df3)"
      ],
      "execution_count": 6,
      "outputs": [
        {
          "output_type": "stream",
          "text": [
            "    avg_tip  avg_size  count_id     sex    time\n",
            "0  3.002115  2.461538        52  Female  Dinner\n",
            "1  2.582857  2.457143        35  Female   Lunch\n",
            "2  3.144839  2.701613       124    Male  Dinner\n",
            "3  2.882121  2.363636        33    Male   Lunch\n"
          ],
          "name": "stdout"
        }
      ]
    }
  ]
}