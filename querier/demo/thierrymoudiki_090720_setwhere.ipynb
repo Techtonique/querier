{
  "nbformat": 4,
  "nbformat_minor": 0,
  "metadata": {
    "colab": {
      "name": "querier_setwhere.ipynb",
      "provenance": [],
      "collapsed_sections": []
    },
    "kernelspec": {
      "name": "python3",
      "display_name": "Python 3"
    }
  },
  "cells": [
    {
      "cell_type": "markdown",
      "metadata": {
        "id": "_jCaX27Tcob-",
        "colab_type": "text"
      },
      "source": [
        "This notebook presents some examples of use of [the querier](https://github.com/thierrymoudiki/querier), a query language for Python pandas Data Frames.\n",
        "\n",
        "Here, the focus is placed on function `setwhere` (like SQL's combination UPDATE SET WHERE). We start by installing the package from Github:"
      ]
    },
    {
      "cell_type": "code",
      "metadata": {
        "id": "xj9bOQw4cdI1",
        "colab_type": "code",
        "colab": {}
      },
      "source": [
        "!pip install git+https://github.com/thierrymoudiki/querier.git --upgrade"
      ],
      "execution_count": null,
      "outputs": []
    },
    {
      "cell_type": "markdown",
      "metadata": {
        "id": "4rshpBrkdo_i",
        "colab_type": "text"
      },
      "source": [
        "Importing the packages necessary for our demo:"
      ]
    },
    {
      "cell_type": "code",
      "metadata": {
        "id": "gBtleE3-djIA",
        "colab_type": "code",
        "colab": {}
      },
      "source": [
        "import pandas as pd\n",
        "import querier as qr"
      ],
      "execution_count": 2,
      "outputs": []
    },
    {
      "cell_type": "markdown",
      "metadata": {
        "id": "FhQNfXeAfRPK",
        "colab_type": "text"
      },
      "source": [
        "Importing the dataset necessary for our demo:"
      ]
    },
    {
      "cell_type": "code",
      "metadata": {
        "id": "90exDPOudaI1",
        "colab_type": "code",
        "colab": {
          "base_uri": "https://localhost:8080/",
          "height": 86
        },
        "outputId": "60d933c1-6ca3-478c-9a87-a693fa1ca832"
      },
      "source": [
        "h = {\"age\": [25, 30, 18], \"sex\": [\"M\", \"F\", \"M\"]}\n",
        "\n",
        "df = pd.DataFrame(h)\n",
        "\n",
        "print(df)"
      ],
      "execution_count": 7,
      "outputs": [
        {
          "output_type": "stream",
          "text": [
            "   age sex\n",
            "0   25   M\n",
            "1   30   F\n",
            "2   18   M\n"
          ],
          "name": "stdout"
        }
      ]
    },
    {
      "cell_type": "markdown",
      "metadata": {
        "id": "ScxfxuOsfVfe",
        "colab_type": "text"
      },
      "source": [
        "Using `qr.setwhere`:"
      ]
    },
    {
      "cell_type": "code",
      "metadata": {
        "id": "o_Zd6BTCexXT",
        "colab_type": "code",
        "colab": {
          "base_uri": "https://localhost:8080/",
          "height": 156
        },
        "outputId": "afb09054-6091-40e1-e740-926ce18de14b"
      },
      "source": [
        "df1 = qr.setwhere(df, col=\"age\", val=30, replace=35, copy=True)\n",
        "print(df1)\n",
        "print(df)"
      ],
      "execution_count": 9,
      "outputs": [
        {
          "output_type": "stream",
          "text": [
            "   age sex\n",
            "0   25   M\n",
            "1   35   F\n",
            "2   18   M\n",
            "   age sex\n",
            "0   25   M\n",
            "1   30   F\n",
            "2   18   M\n"
          ],
          "name": "stdout"
        }
      ]
    },
    {
      "cell_type": "code",
      "metadata": {
        "id": "K18AQNt5e0gV",
        "colab_type": "code",
        "colab": {
          "base_uri": "https://localhost:8080/",
          "height": 156
        },
        "outputId": "9a94a22d-1845-407d-a697-8c50182994f3"
      },
      "source": [
        "df1 = qr.setwhere(df, col=\"age\", val=30, replace=35, copy=False)\n",
        "print(df1)\n",
        "print(df)"
      ],
      "execution_count": 10,
      "outputs": [
        {
          "output_type": "stream",
          "text": [
            "   age sex\n",
            "0   25   M\n",
            "1   35   F\n",
            "2   18   M\n",
            "   age sex\n",
            "0   25   M\n",
            "1   35   F\n",
            "2   18   M\n"
          ],
          "name": "stdout"
        }
      ]
    }
  ]
}