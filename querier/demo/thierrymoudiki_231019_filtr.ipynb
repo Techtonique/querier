{
  "nbformat": 4,
  "nbformat_minor": 0,
  "metadata": {
    "colab": {
      "name": "querier_filtr.ipynb",
      "provenance": [],
      "collapsed_sections": []
    },
    "kernelspec": {
      "name": "python3",
      "display_name": "Python 3"
    }
  },
  "cells": [
    {
      "cell_type": "markdown",
      "metadata": {
        "id": "_jCaX27Tcob-",
        "colab_type": "text"
      },
      "source": [
        "This notebook presents some examples of use of [the querier](https://github.com/thierrymoudiki/querier), a query language for Python pandas Data Frames.\n",
        "\n",
        "Here, the focus is placed on function `filtr`. We start by installing the package from Github:"
      ]
    },
    {
      "cell_type": "code",
      "metadata": {
        "id": "xj9bOQw4cdI1",
        "colab_type": "code",
        "colab": {}
      },
      "source": [
        "pip install git+https://github.com/thierrymoudiki/querier.git"
      ],
      "execution_count": 0,
      "outputs": []
    },
    {
      "cell_type": "markdown",
      "metadata": {
        "id": "4rshpBrkdo_i",
        "colab_type": "text"
      },
      "source": [
        "Importing the packages necessary for our demo:"
      ]
    },
    {
      "cell_type": "code",
      "metadata": {
        "id": "gBtleE3-djIA",
        "colab_type": "code",
        "colab": {}
      },
      "source": [
        "import pandas as pd\n",
        "import querier as qr"
      ],
      "execution_count": 0,
      "outputs": []
    },
    {
      "cell_type": "markdown",
      "metadata": {
        "id": "FhQNfXeAfRPK",
        "colab_type": "text"
      },
      "source": [
        "Importing the dataset necessary for our demo:"
      ]
    },
    {
      "cell_type": "code",
      "metadata": {
        "id": "90exDPOudaI1",
        "colab_type": "code",
        "colab": {}
      },
      "source": [
        "url = ('https://raw.github.com/pandas-dev'\n",
        "   '/pandas/master/pandas/tests/data/tips.csv')\n",
        "df = pd.read_csv(url)"
      ],
      "execution_count": 0,
      "outputs": []
    },
    {
      "cell_type": "markdown",
      "metadata": {
        "id": "ScxfxuOsfVfe",
        "colab_type": "text"
      },
      "source": [
        "Using `qr.filtr`:"
      ]
    },
    {
      "cell_type": "code",
      "metadata": {
        "id": "uzE82F6mhITU",
        "colab_type": "code",
        "colab": {
          "base_uri": "https://localhost:8080/",
          "height": 347
        },
        "outputId": "9f9a779e-6155-4d83-9df6-f0dac001df09"
      },
      "source": [
        "df1 = qr.filtr(df, 'tip > 5')        \n",
        "print(df1)        "
      ],
      "execution_count": 4,
      "outputs": [
        {
          "output_type": "stream",
          "text": [
            "     total_bill    tip     sex smoker   day    time  size\n",
            "23        39.42   7.58    Male     No   Sat  Dinner     4\n",
            "44        30.40   5.60    Male     No   Sun  Dinner     4\n",
            "47        32.40   6.00    Male     No   Sun  Dinner     4\n",
            "52        34.81   5.20  Female     No   Sun  Dinner     4\n",
            "59        48.27   6.73    Male     No   Sat  Dinner     4\n",
            "85        34.83   5.17  Female     No  Thur   Lunch     4\n",
            "88        24.71   5.85    Male     No  Thur   Lunch     2\n",
            "116       29.93   5.07    Male     No   Sun  Dinner     4\n",
            "141       34.30   6.70    Male     No  Thur   Lunch     6\n",
            "155       29.85   5.14  Female     No   Sun  Dinner     5\n",
            "170       50.81  10.00    Male    Yes   Sat  Dinner     3\n",
            "172        7.25   5.15    Male    Yes   Sun  Dinner     2\n",
            "181       23.33   5.65    Male    Yes   Sun  Dinner     2\n",
            "183       23.17   6.50    Male    Yes   Sun  Dinner     4\n",
            "211       25.89   5.16    Male    Yes   Sat  Dinner     4\n",
            "212       48.33   9.00    Male     No   Sat  Dinner     4\n",
            "214       28.17   6.50  Female    Yes   Sat  Dinner     3\n",
            "239       29.03   5.92    Male     No   Sat  Dinner     3\n"
          ],
          "name": "stdout"
        }
      ]
    },
    {
      "cell_type": "code",
      "metadata": {
        "id": "IXack0nRhKhi",
        "colab_type": "code",
        "colab": {
          "base_uri": "https://localhost:8080/",
          "height": 86
        },
        "outputId": "3d8c2c72-e102-4e92-cd93-1df8bb862e36"
      },
      "source": [
        "df2 = qr.filtr(df, '(tip > 5) & (size==2)')        \n",
        "print(df2)"
      ],
      "execution_count": 5,
      "outputs": [
        {
          "output_type": "stream",
          "text": [
            "     total_bill   tip   sex smoker   day    time  size\n",
            "88        24.71  5.85  Male     No  Thur   Lunch     2\n",
            "172        7.25  5.15  Male    Yes   Sun  Dinner     2\n",
            "181       23.33  5.65  Male    Yes   Sun  Dinner     2\n"
          ],
          "name": "stdout"
        }
      ]
    },
    {
      "cell_type": "code",
      "metadata": {
        "id": "rsqmuRe8hMLJ",
        "colab_type": "code",
        "colab": {
          "base_uri": "https://localhost:8080/",
          "height": 121
        },
        "outputId": "84a6a47b-1af3-48b8-c1c0-3ccda0005d60"
      },
      "source": [
        "df3 = qr.filtr(df, '(tip < 2)')        \n",
        "print(df3.head())        "
      ],
      "execution_count": 10,
      "outputs": [
        {
          "output_type": "stream",
          "text": [
            "    total_bill   tip     sex smoker  day    time  size\n",
            "0        16.99  1.01  Female     No  Sun  Dinner     2\n",
            "1        10.34  1.66    Male     No  Sun  Dinner     3\n",
            "8        15.04  1.96    Male     No  Sun  Dinner     2\n",
            "10       10.27  1.71    Male     No  Sun  Dinner     2\n",
            "12       15.42  1.57    Male     No  Sun  Dinner     2\n"
          ],
          "name": "stdout"
        }
      ]
    },
    {
      "cell_type": "code",
      "metadata": {
        "id": "iwYZS5onhOOC",
        "colab_type": "code",
        "colab": {
          "base_uri": "https://localhost:8080/",
          "height": 278
        },
        "outputId": "c7c2a6f8-8dc1-4b5f-9ec8-cb434b06c60e"
      },
      "source": [
        "df4 = qr.filtr(df, '(tip > 5) & (sex == \"Male\")')        \n",
        "print(df4)"
      ],
      "execution_count": 11,
      "outputs": [
        {
          "output_type": "stream",
          "text": [
            "     total_bill    tip   sex smoker   day    time  size\n",
            "23        39.42   7.58  Male     No   Sat  Dinner     4\n",
            "44        30.40   5.60  Male     No   Sun  Dinner     4\n",
            "47        32.40   6.00  Male     No   Sun  Dinner     4\n",
            "59        48.27   6.73  Male     No   Sat  Dinner     4\n",
            "88        24.71   5.85  Male     No  Thur   Lunch     2\n",
            "116       29.93   5.07  Male     No   Sun  Dinner     4\n",
            "141       34.30   6.70  Male     No  Thur   Lunch     6\n",
            "170       50.81  10.00  Male    Yes   Sat  Dinner     3\n",
            "172        7.25   5.15  Male    Yes   Sun  Dinner     2\n",
            "181       23.33   5.65  Male    Yes   Sun  Dinner     2\n",
            "183       23.17   6.50  Male    Yes   Sun  Dinner     4\n",
            "211       25.89   5.16  Male    Yes   Sat  Dinner     4\n",
            "212       48.33   9.00  Male     No   Sat  Dinner     4\n",
            "239       29.03   5.92  Male     No   Sat  Dinner     3\n"
          ],
          "name": "stdout"
        }
      ]
    },
    {
      "cell_type": "code",
      "metadata": {
        "id": "iklyWa5XhPlH",
        "colab_type": "code",
        "colab": {
          "base_uri": "https://localhost:8080/",
          "height": 121
        },
        "outputId": "094c6fbd-b9a3-4cdf-c1ad-cb5dd83fef7b"
      },
      "source": [
        "df5 = qr.filtr(df, '(tip > 5) & (sex == \"Male\") & (smoker == \"Yes\")') \n",
        "print(df5)"
      ],
      "execution_count": 12,
      "outputs": [
        {
          "output_type": "stream",
          "text": [
            "     total_bill    tip   sex smoker  day    time  size\n",
            "170       50.81  10.00  Male    Yes  Sat  Dinner     3\n",
            "172        7.25   5.15  Male    Yes  Sun  Dinner     2\n",
            "181       23.33   5.65  Male    Yes  Sun  Dinner     2\n",
            "183       23.17   6.50  Male    Yes  Sun  Dinner     4\n",
            "211       25.89   5.16  Male    Yes  Sat  Dinner     4\n"
          ],
          "name": "stdout"
        }
      ]
    }
  ]
}