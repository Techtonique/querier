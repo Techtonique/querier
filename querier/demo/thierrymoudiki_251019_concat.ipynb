{
  "nbformat": 4,
  "nbformat_minor": 0,
  "metadata": {
    "colab": {
      "name": "querier_concat.ipynb",
      "provenance": []
    },
    "kernelspec": {
      "name": "python3",
      "display_name": "Python 3"
    }
  },
  "cells": [
    {
      "cell_type": "markdown",
      "metadata": {
        "id": "_jCaX27Tcob-",
        "colab_type": "text"
      },
      "source": [
        "This notebook presents some examples of use of [the querier](https://github.com/thierrymoudiki/querier), a query language for Python pandas Data Frames.\n",
        "\n",
        "Here, the focus is placed on function `concat`. We start by installing the package from Github:"
      ]
    },
    {
      "cell_type": "code",
      "metadata": {
        "id": "xj9bOQw4cdI1",
        "colab_type": "code",
        "colab": {}
      },
      "source": [
        "pip install git+https://github.com/thierrymoudiki/querier.git"
      ],
      "execution_count": 0,
      "outputs": []
    },
    {
      "cell_type": "markdown",
      "metadata": {
        "id": "4rshpBrkdo_i",
        "colab_type": "text"
      },
      "source": [
        "Importing the packages necessary for our demo:"
      ]
    },
    {
      "cell_type": "code",
      "metadata": {
        "id": "gBtleE3-djIA",
        "colab_type": "code",
        "colab": {}
      },
      "source": [
        "import pandas as pd\n",
        "import querier as qr\n",
        "import numpy as np"
      ],
      "execution_count": 0,
      "outputs": []
    },
    {
      "cell_type": "markdown",
      "metadata": {
        "id": "FhQNfXeAfRPK",
        "colab_type": "text"
      },
      "source": [
        "Importing the dataset necessary for our demo:"
      ]
    },
    {
      "cell_type": "markdown",
      "metadata": {
        "id": "ScxfxuOsfVfe",
        "colab_type": "text"
      },
      "source": [
        "Using `qr.concat`:"
      ]
    },
    {
      "cell_type": "code",
      "metadata": {
        "id": "GjRpf_rC6vwi",
        "colab_type": "code",
        "colab": {}
      },
      "source": [
        "np.random.rand(123)\n",
        "df1 = pd.DataFrame(\n",
        "    {\n",
        "        \"key\": [\"A\", \"B\", \"C\", \"D\"],\n",
        "        \"value\": np.random.randn(4),\n",
        "    }\n",
        ")\n",
        "df2 = pd.DataFrame(\n",
        "    {\n",
        "        \"key\": [\"B\", \"D\", \"D\", \"E\"],\n",
        "        \"value\": np.random.randn(4),\n",
        "    }\n",
        ")\n",
        "df3 = pd.DataFrame(\n",
        "    {\n",
        "        \"key1\": [\"A\", \"B\", \"C\", \"D\"],\n",
        "        \"value1\": np.random.randn(4),\n",
        "    }\n",
        ")\n",
        "df4 = pd.DataFrame(\n",
        "    {\n",
        "        \"key2\": [\"B\", \"D\", \"D\", \"E\"],\n",
        "        \"value2\": np.random.randn(4),\n",
        "    }\n",
        ")        "
      ],
      "execution_count": 0,
      "outputs": []
    },
    {
      "cell_type": "code",
      "metadata": {
        "id": "e1Yg3OiA66EK",
        "colab_type": "code",
        "colab": {
          "base_uri": "https://localhost:8080/",
          "height": 104
        },
        "outputId": "07c40f87-668f-41b5-ec1c-98ef2a99cd4c"
      },
      "source": [
        "df5 = qr.concat(df3, df4, axis=\"h\")  \n",
        "print(df5)      "
      ],
      "execution_count": 6,
      "outputs": [
        {
          "output_type": "stream",
          "text": [
            "  key1     value1 key2     value2\n",
            "0    A  0.0181378    B -0.0626236\n",
            "1    B   0.186792    D   0.909464\n",
            "2    C  0.0188725    D  -0.753083\n",
            "3    D   -1.55472    E   0.110129\n"
          ],
          "name": "stdout"
        }
      ]
    },
    {
      "cell_type": "code",
      "metadata": {
        "id": "a0Zajtfw68Vl",
        "colab_type": "code",
        "colab": {
          "base_uri": "https://localhost:8080/",
          "height": 173
        },
        "outputId": "c5f23d7d-88b7-4b4a-b4b2-5f3acecbf9f3"
      },
      "source": [
        "df6 = qr.concat(df1, df2, axis=\"v\")\n",
        "print(df6)"
      ],
      "execution_count": 7,
      "outputs": [
        {
          "output_type": "stream",
          "text": [
            "  key     value\n",
            "0   A  -1.12413\n",
            "1   B  0.870786\n",
            "2   C   1.00773\n",
            "3   D -0.764683\n",
            "4   B  0.488337\n",
            "5   D -0.483428\n",
            "6   D  0.819588\n",
            "7   E  -2.03159\n"
          ],
          "name": "stdout"
        }
      ]
    }
  ]
}