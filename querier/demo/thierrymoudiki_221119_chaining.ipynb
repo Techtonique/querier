{
  "nbformat": 4,
  "nbformat_minor": 0,
  "metadata": {
    "colab": {
      "name": "querier_chaining.ipynb",
      "provenance": [],
      "collapsed_sections": []
    },
    "kernelspec": {
      "name": "python3",
      "display_name": "Python 3"
    }
  },
  "cells": [
    {
      "cell_type": "markdown",
      "metadata": {
        "id": "X2Lvt3T3sno0",
        "colab_type": "text"
      },
      "source": [
        "# Composing verbs in the `querier`\n",
        "\n",
        "\n",
        "Install package:"
      ]
    },
    {
      "cell_type": "code",
      "metadata": {
        "id": "5R8q13hgsElO",
        "colab_type": "code",
        "colab": {}
      },
      "source": [
        "!pip install git+https://github.com/thierrymoudiki/querier.git"
      ],
      "execution_count": 0,
      "outputs": []
    },
    {
      "cell_type": "markdown",
      "metadata": {
        "id": "-tAh1uEFs4D5",
        "colab_type": "text"
      },
      "source": [
        "Import packages and dataset:"
      ]
    },
    {
      "cell_type": "code",
      "metadata": {
        "id": "97IgGKYfsCYQ",
        "colab_type": "code",
        "colab": {
          "base_uri": "https://localhost:8080/",
          "height": 121
        },
        "outputId": "6b9c1d02-22fb-4dca-ead5-263319b953e7"
      },
      "source": [
        "import pandas as pd\n",
        "import querier as qr\n",
        "\n",
        "\n",
        "# Import data -----\n",
        "\n",
        "url = ('https://raw.github.com/pandas-dev'\n",
        "   '/pandas/master/pandas/tests/data/tips.csv')\n",
        "df = pd.read_csv(url)\n",
        "print(df.head())"
      ],
      "execution_count": 7,
      "outputs": [
        {
          "output_type": "stream",
          "text": [
            "   total_bill   tip     sex smoker  day    time  size\n",
            "0       16.99  1.01  Female     No  Sun  Dinner     2\n",
            "1       10.34  1.66    Male     No  Sun  Dinner     3\n",
            "2       21.01  3.50    Male     No  Sun  Dinner     3\n",
            "3       23.68  3.31    Male     No  Sun  Dinner     2\n",
            "4       24.59  3.61  Female     No  Sun  Dinner     4\n"
          ],
          "name": "stdout"
        }
      ]
    },
    {
      "cell_type": "markdown",
      "metadata": {
        "id": "hm1idNbps8bM",
        "colab_type": "text"
      },
      "source": [
        "## Example1: \n",
        "\n",
        "- select columns `tip, sex, smoker, time` from dataset\n",
        "- filter rows in which `smoker == No` only\n",
        "- obtain the cumulated tips by `sex` and `time`"
      ]
    },
    {
      "cell_type": "code",
      "metadata": {
        "id": "AGTvPjlor5O7",
        "colab_type": "code",
        "colab": {
          "base_uri": "https://localhost:8080/",
          "height": 104
        },
        "outputId": "4f124861-9adb-405d-ca4d-a9b11321fd38"
      },
      "source": [
        "# Example 1 -----\n",
        "\n",
        "qrobj = qr.Querier(df)\n",
        "\n",
        "df1 = qrobj\\\n",
        ".select(req=\"tip, sex, smoker, time\")\\\n",
        ".filtr(req=\"smoker == 'No'\")\\\n",
        ".summarize(req=\"sum(tip), sex, time\", group_by=\"sex, time\")\\\n",
        ".df\n",
        "\n",
        "print(df1)"
      ],
      "execution_count": 8,
      "outputs": [
        {
          "output_type": "stream",
          "text": [
            "   sum_tip     sex    time\n",
            "0    88.28  Female  Dinner\n",
            "1    61.49  Female   Lunch\n",
            "2   243.17    Male  Dinner\n",
            "3    58.83    Male   Lunch\n"
          ],
          "name": "stdout"
        }
      ]
    },
    {
      "cell_type": "markdown",
      "metadata": {
        "id": "VavhuLAytB6G",
        "colab_type": "text"
      },
      "source": [
        "## Example2: \n",
        "\n",
        "- select columns `tip, sex, day, size` from dataset\n",
        "- filter rows corresponding to weekends only\n",
        "- obtain the average tips by `sex` and `day`"
      ]
    },
    {
      "cell_type": "code",
      "metadata": {
        "id": "2Ex1kcaor8G-",
        "colab_type": "code",
        "colab": {
          "base_uri": "https://localhost:8080/",
          "height": 104
        },
        "outputId": "e8e3be01-b934-4949-84b4-001da90c8c80"
      },
      "source": [
        "# Example 2 -----\n",
        "\n",
        "df2 = qr.Querier(df)\\\n",
        ".select(req='tip, sex, day, size')\\\n",
        ".filtr(req=\"(day == 'Sun') | (day == 'Sat')\")\\\n",
        ".summarize(req=\"avg(tip), sex, day\", group_by=\"sex, day\")\\\n",
        ".df\n",
        "\n",
        "print(df2)"
      ],
      "execution_count": 9,
      "outputs": [
        {
          "output_type": "stream",
          "text": [
            "    avg_tip     sex  day\n",
            "0  2.801786  Female  Sat\n",
            "1  3.367222  Female  Sun\n",
            "2  3.083898    Male  Sat\n",
            "3  3.220345    Male  Sun\n"
          ],
          "name": "stdout"
        }
      ]
    }
  ]
}