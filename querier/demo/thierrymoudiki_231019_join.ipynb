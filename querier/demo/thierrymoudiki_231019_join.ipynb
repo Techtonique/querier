{
  "nbformat": 4,
  "nbformat_minor": 0,
  "metadata": {
    "colab": {
      "name": "querier_join.ipynb",
      "provenance": [],
      "collapsed_sections": []
    },
    "kernelspec": {
      "name": "python3",
      "display_name": "Python 3"
    }
  },
  "cells": [
    {
      "cell_type": "markdown",
      "metadata": {
        "id": "_jCaX27Tcob-",
        "colab_type": "text"
      },
      "source": [
        "This notebook presents some examples of use of [the querier](https://github.com/thierrymoudiki/querier), a query language for Python pandas Data Frames.\n",
        "\n",
        "Here, the focus is placed on function `join`. We start by installing the package from Github:"
      ]
    },
    {
      "cell_type": "code",
      "metadata": {
        "id": "xj9bOQw4cdI1",
        "colab_type": "code",
        "colab": {}
      },
      "source": [
        "pip install git+https://github.com/thierrymoudiki/querier.git"
      ],
      "execution_count": 0,
      "outputs": []
    },
    {
      "cell_type": "markdown",
      "metadata": {
        "id": "4rshpBrkdo_i",
        "colab_type": "text"
      },
      "source": [
        "Importing the packages necessary for our demo:"
      ]
    },
    {
      "cell_type": "code",
      "metadata": {
        "id": "gBtleE3-djIA",
        "colab_type": "code",
        "colab": {}
      },
      "source": [
        "import pandas as pd\n",
        "import querier as qr\n",
        "import numpy as np"
      ],
      "execution_count": 0,
      "outputs": []
    },
    {
      "cell_type": "markdown",
      "metadata": {
        "id": "ScxfxuOsfVfe",
        "colab_type": "text"
      },
      "source": [
        "Using `qr.join`:"
      ]
    },
    {
      "cell_type": "code",
      "metadata": {
        "id": "BvlcpOESjsMY",
        "colab_type": "code",
        "colab": {
          "base_uri": "https://localhost:8080/",
          "height": 225
        },
        "outputId": "95f0e0fb-d727-40bd-a66a-bcc8980c6a93"
      },
      "source": [
        "df1 = pd.DataFrame({'key': ['A', 'B', 'C', 'D'],\n",
        "                            'value': np.random.randn(4)})\n",
        "df2 = pd.DataFrame({'key': ['B', 'D', 'D', 'E'],\n",
        "                            'value': np.random.randn(4)})\n",
        "\n",
        "print(df1)\n",
        "print(\"\\n\")\n",
        "print(df2)        \n",
        "        "
      ],
      "execution_count": 37,
      "outputs": [
        {
          "output_type": "stream",
          "text": [
            "  key     value\n",
            "0   A -0.060195\n",
            "1   B -1.182403\n",
            "2   C  1.308920\n",
            "3   D  1.310736\n",
            "\n",
            "\n",
            "  key     value\n",
            "0   B  0.960905\n",
            "1   D -0.598692\n",
            "2   D -0.630694\n",
            "3   E -1.007676\n"
          ],
          "name": "stdout"
        }
      ]
    },
    {
      "cell_type": "code",
      "metadata": {
        "id": "GUoW99gmkGJb",
        "colab_type": "code",
        "colab": {
          "base_uri": "https://localhost:8080/",
          "height": 86
        },
        "outputId": "08bea2f7-9bac-4946-9834-cc055eae7cb0"
      },
      "source": [
        "df3 = qr.join(df1, df2, on=\"key\", type_join=\"inner\")\n",
        "print(df3)  "
      ],
      "execution_count": 38,
      "outputs": [
        {
          "output_type": "stream",
          "text": [
            "  key   value_x   value_y\n",
            "0   B -1.182403  0.960905\n",
            "1   D  1.310736 -0.598692\n",
            "2   D  1.310736 -0.630694\n"
          ],
          "name": "stdout"
        }
      ]
    },
    {
      "cell_type": "code",
      "metadata": {
        "id": "Wf9YA2_zjxkP",
        "colab_type": "code",
        "colab": {
          "base_uri": "https://localhost:8080/",
          "height": 104
        },
        "outputId": "93a168cc-25e9-4f00-d215-015521879082"
      },
      "source": [
        "df4 = qr.join(df1, df2, on=\"key\", type_join=\"right\")        \n",
        "print(df4)        "
      ],
      "execution_count": 39,
      "outputs": [
        {
          "output_type": "stream",
          "text": [
            "  key   value_x   value_y\n",
            "0   B -1.182403  0.960905\n",
            "1   D  1.310736 -0.598692\n",
            "2   D  1.310736 -0.630694\n",
            "3   E       NaN -1.007676\n"
          ],
          "name": "stdout"
        }
      ]
    },
    {
      "cell_type": "code",
      "metadata": {
        "id": "T4yjjF12jzT9",
        "colab_type": "code",
        "colab": {
          "base_uri": "https://localhost:8080/",
          "height": 121
        },
        "outputId": "bac03c95-9e9f-48af-fcf4-18805161593f"
      },
      "source": [
        "df5 = qr.join(df1, df2, on=\"key\", type_join=\"left\")        \n",
        "print(df5)        "
      ],
      "execution_count": 40,
      "outputs": [
        {
          "output_type": "stream",
          "text": [
            "  key   value_x   value_y\n",
            "0   A -0.060195       NaN\n",
            "1   B -1.182403  0.960905\n",
            "2   C  1.308920       NaN\n",
            "3   D  1.310736 -0.598692\n",
            "4   D  1.310736 -0.630694\n"
          ],
          "name": "stdout"
        }
      ]
    },
    {
      "cell_type": "code",
      "metadata": {
        "id": "gCciGOLIj0qP",
        "colab_type": "code",
        "colab": {
          "base_uri": "https://localhost:8080/",
          "height": 139
        },
        "outputId": "e2969ba2-1791-4576-cbac-181a25a46230"
      },
      "source": [
        "df6 = qr.join(df1, df2, on=\"key\", type_join=\"outer\") \n",
        "print(df6)  "
      ],
      "execution_count": 41,
      "outputs": [
        {
          "output_type": "stream",
          "text": [
            "  key   value_x   value_y\n",
            "0   A -0.060195       NaN\n",
            "1   B -1.182403  0.960905\n",
            "2   C  1.308920       NaN\n",
            "3   D  1.310736 -0.598692\n",
            "4   D  1.310736 -0.630694\n",
            "5   E       NaN -1.007676\n"
          ],
          "name": "stdout"
        }
      ]
    }
  ]
}