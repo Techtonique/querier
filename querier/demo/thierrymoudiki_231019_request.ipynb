{
  "nbformat": 4,
  "nbformat_minor": 0,
  "metadata": {
    "colab": {
      "name": "querier_request.ipynb",
      "provenance": [],
      "collapsed_sections": []
    },
    "kernelspec": {
      "name": "python3",
      "display_name": "Python 3"
    }
  },
  "cells": [
    {
      "cell_type": "markdown",
      "metadata": {
        "id": "_jCaX27Tcob-",
        "colab_type": "text"
      },
      "source": [
        "This notebook presents some examples of use of [the querier](https://github.com/thierrymoudiki/querier), a query language for Python pandas Data Frames.\n",
        "\n",
        "Here, the focus is placed on function `request`. We start by installing the package from Github:"
      ]
    },
    {
      "cell_type": "code",
      "metadata": {
        "id": "xj9bOQw4cdI1",
        "colab_type": "code",
        "outputId": "ff73df9b-7ea2-49e6-979c-c26277d3faa9",
        "colab": {
          "base_uri": "https://localhost:8080/",
          "height": 193
        }
      },
      "source": [
        "pip install git+https://github.com/thierrymoudiki/querier.git"
      ],
      "execution_count": 20,
      "outputs": [
        {
          "output_type": "stream",
          "text": [
            "Collecting git+https://github.com/thierrymoudiki/querier.git\n",
            "  Cloning https://github.com/thierrymoudiki/querier.git to /tmp/pip-req-build-jdt9vpm3\n",
            "  Running command git clone -q https://github.com/thierrymoudiki/querier.git /tmp/pip-req-build-jdt9vpm3\n",
            "Requirement already satisfied (use --upgrade to upgrade): querier==0.1.0 from git+https://github.com/thierrymoudiki/querier.git in /usr/local/lib/python3.6/dist-packages\n",
            "Building wheels for collected packages: querier\n",
            "  Building wheel for querier (setup.py) ... \u001b[?25l\u001b[?25hdone\n",
            "  Created wheel for querier: filename=querier-0.1.0-py2.py3-none-any.whl size=17235 sha256=3d0e88aa47323e8ff47198c78b0399819df57dc7183d34ba1dda5a0087cbe9a0\n",
            "  Stored in directory: /tmp/pip-ephem-wheel-cache-va7jyf5_/wheels/72/51/12/482886b6a3d8ac3c1b68990c0d230359d60da240cc74e2ab7c\n",
            "Successfully built querier\n"
          ],
          "name": "stdout"
        }
      ]
    },
    {
      "cell_type": "markdown",
      "metadata": {
        "id": "4rshpBrkdo_i",
        "colab_type": "text"
      },
      "source": [
        "Importing the packages necessary for our demo:"
      ]
    },
    {
      "cell_type": "code",
      "metadata": {
        "id": "gBtleE3-djIA",
        "colab_type": "code",
        "colab": {}
      },
      "source": [
        "import pandas as pd\n",
        "import querier as qr\n",
        "import numpy as np"
      ],
      "execution_count": 0,
      "outputs": []
    },
    {
      "cell_type": "markdown",
      "metadata": {
        "id": "FhQNfXeAfRPK",
        "colab_type": "text"
      },
      "source": [
        "Importing the dataset necessary for our demo:"
      ]
    },
    {
      "cell_type": "code",
      "metadata": {
        "id": "90exDPOudaI1",
        "colab_type": "code",
        "colab": {}
      },
      "source": [
        "url = ('https://raw.github.com/pandas-dev'\n",
        "   '/pandas/master/pandas/tests/data/tips.csv')\n",
        "df = pd.read_csv(url)"
      ],
      "execution_count": 0,
      "outputs": []
    },
    {
      "cell_type": "markdown",
      "metadata": {
        "id": "ScxfxuOsfVfe",
        "colab_type": "text"
      },
      "source": [
        "Using `qr.request`:"
      ]
    },
    {
      "cell_type": "code",
      "metadata": {
        "id": "Fy2miAr8lm84",
        "colab_type": "code",
        "colab": {
          "base_uri": "https://localhost:8080/",
          "height": 121
        },
        "outputId": "2bae9cfa-72c0-48bc-8b31-24997e8e4ce2"
      },
      "source": [
        "df1 = qr.request(df, \"SELECT tip, smoker, day FROM df WHERE tip > 2\")        \n",
        "print(df1.head())         "
      ],
      "execution_count": 23,
      "outputs": [
        {
          "output_type": "stream",
          "text": [
            "    tip smoker  day\n",
            "0  3.50     No  Sun\n",
            "1  3.31     No  Sun\n",
            "2  3.61     No  Sun\n",
            "3  4.71     No  Sun\n",
            "4  3.12     No  Sun\n"
          ],
          "name": "stdout"
        }
      ]
    },
    {
      "cell_type": "code",
      "metadata": {
        "id": "xoD5vvn0lo0t",
        "colab_type": "code",
        "colab": {
          "base_uri": "https://localhost:8080/",
          "height": 173
        },
        "outputId": "0de6cf06-f829-43cf-d823-24340875a3df"
      },
      "source": [
        "df2 = qr.request(df, \"SELECT tip, smoker, day, size FROM df WHERE (tip > 2) and (size > 4)\")        \n",
        "print(df2)"
      ],
      "execution_count": 24,
      "outputs": [
        {
          "output_type": "stream",
          "text": [
            "    tip smoker   day  size\n",
            "0  4.20     No  Thur     6\n",
            "1  6.70     No  Thur     6\n",
            "2  5.00     No  Thur     5\n",
            "3  5.00     No  Thur     6\n",
            "4  5.14     No   Sun     5\n",
            "5  5.00     No   Sun     6\n",
            "6  5.00     No   Sun     5\n",
            "7  3.00    Yes   Sat     5\n"
          ],
          "name": "stdout"
        }
      ]
    },
    {
      "cell_type": "code",
      "metadata": {
        "id": "bXinnWGelq8b",
        "colab_type": "code",
        "colab": {
          "base_uri": "https://localhost:8080/",
          "height": 104
        },
        "outputId": "59df895d-09e2-40a7-aad3-c98ce6b09c4f"
      },
      "source": [
        "df3 = qr.request(df, \"SELECT tip, smoker, day, size FROM df WHERE (tip > 2) and (size > 4) and (day not like 'Thur')\")        \n",
        "print(df3)        "
      ],
      "execution_count": 25,
      "outputs": [
        {
          "output_type": "stream",
          "text": [
            "    tip smoker  day  size\n",
            "0  5.14     No  Sun     5\n",
            "1  5.00     No  Sun     6\n",
            "2  5.00     No  Sun     5\n",
            "3  3.00    Yes  Sat     5\n"
          ],
          "name": "stdout"
        }
      ]
    },
    {
      "cell_type": "code",
      "metadata": {
        "id": "PLjQb8mhlsVI",
        "colab_type": "code",
        "colab": {
          "base_uri": "https://localhost:8080/",
          "height": 121
        },
        "outputId": "a653e1e9-27e1-4c14-c8db-e62b5d298e50"
      },
      "source": [
        "df4 = qr.request(df, \"SELECT AVG(tip) as avg_tip, size, smoker FROM df WHERE tip > 2 GROUP BY size\")        \n",
        "print(df4)        "
      ],
      "execution_count": 26,
      "outputs": [
        {
          "output_type": "stream",
          "text": [
            "    avg_tip  size smoker\n",
            "0  3.180430     2     No\n",
            "1  3.695312     3     No\n",
            "2  4.394242     4     No\n",
            "3  4.535000     5    Yes\n",
            "4  5.225000     6     No\n"
          ],
          "name": "stdout"
        }
      ]
    },
    {
      "cell_type": "code",
      "metadata": {
        "id": "FqWnrmCyltws",
        "colab_type": "code",
        "colab": {
          "base_uri": "https://localhost:8080/",
          "height": 121
        },
        "outputId": "983170e7-aff9-4ae8-a52c-121124a7d8a2"
      },
      "source": [
        "df5 = qr.request(df, \"SELECT avg(tip) as avg_tip, AVG(size) as avg_size, smoker FROM df WHERE tip > 2 GROUP BY size, tip\")        \n",
        "print(df5.head())        "
      ],
      "execution_count": 27,
      "outputs": [
        {
          "output_type": "stream",
          "text": [
            "   avg_tip  avg_size smoker\n",
            "0     2.01       2.0    Yes\n",
            "1     2.02       2.0    Yes\n",
            "2     2.03       2.0    Yes\n",
            "3     2.09       2.0    Yes\n",
            "4     2.20       2.0    Yes\n"
          ],
          "name": "stdout"
        }
      ]
    },
    {
      "cell_type": "code",
      "metadata": {
        "id": "WJiD7fIQmqIl",
        "colab_type": "code",
        "colab": {
          "base_uri": "https://localhost:8080/",
          "height": 104
        },
        "outputId": "c450ce3f-1296-442c-d95c-56b9ff2238bf"
      },
      "source": [
        "df5 = qr.request(df, \"SELECT avg(tip) as avg_tip, sex, time FROM df GROUP BY sex, time\")        \n",
        "print(df5)        "
      ],
      "execution_count": 29,
      "outputs": [
        {
          "output_type": "stream",
          "text": [
            "    avg_tip     sex    time\n",
            "0  3.002115  Female  Dinner\n",
            "1  2.582857  Female   Lunch\n",
            "2  3.144839    Male  Dinner\n",
            "3  2.882121    Male   Lunch\n"
          ],
          "name": "stdout"
        }
      ]
    }
  ]
}