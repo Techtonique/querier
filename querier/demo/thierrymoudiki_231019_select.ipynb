{
  "nbformat": 4,
  "nbformat_minor": 0,
  "metadata": {
    "colab": {
      "name": "querier_select.ipynb",
      "provenance": [],
      "collapsed_sections": []
    },
    "kernelspec": {
      "name": "python3",
      "display_name": "Python 3"
    }
  },
  "cells": [
    {
      "cell_type": "markdown",
      "metadata": {
        "id": "_jCaX27Tcob-",
        "colab_type": "text"
      },
      "source": [
        "This notebook presents some examples of use of [the querier](https://github.com/thierrymoudiki/querier), a query language for Python pandas Data Frames.\n",
        "\n",
        "Here, the focus is placed on function `select`. We start by installing the package from Github:"
      ]
    },
    {
      "cell_type": "code",
      "metadata": {
        "id": "xj9bOQw4cdI1",
        "colab_type": "code",
        "colab": {}
      },
      "source": [
        "pip install git+https://github.com/thierrymoudiki/querier.git"
      ],
      "execution_count": 0,
      "outputs": []
    },
    {
      "cell_type": "markdown",
      "metadata": {
        "id": "4rshpBrkdo_i",
        "colab_type": "text"
      },
      "source": [
        "Importing the packages necessary for our demo:"
      ]
    },
    {
      "cell_type": "code",
      "metadata": {
        "id": "gBtleE3-djIA",
        "colab_type": "code",
        "colab": {}
      },
      "source": [
        "import pandas as pd\n",
        "import querier as qr"
      ],
      "execution_count": 0,
      "outputs": []
    },
    {
      "cell_type": "markdown",
      "metadata": {
        "id": "FhQNfXeAfRPK",
        "colab_type": "text"
      },
      "source": [
        "Importing the dataset necessary for our demo:"
      ]
    },
    {
      "cell_type": "code",
      "metadata": {
        "id": "90exDPOudaI1",
        "colab_type": "code",
        "colab": {}
      },
      "source": [
        "url = ('https://raw.github.com/pandas-dev'\n",
        "   '/pandas/master/pandas/tests/data/tips.csv')\n",
        "df = pd.read_csv(url)"
      ],
      "execution_count": 0,
      "outputs": []
    },
    {
      "cell_type": "markdown",
      "metadata": {
        "id": "ScxfxuOsfVfe",
        "colab_type": "text"
      },
      "source": [
        "Using `qr.select`:"
      ]
    },
    {
      "cell_type": "code",
      "metadata": {
        "id": "o_Zd6BTCexXT",
        "colab_type": "code",
        "colab": {
          "base_uri": "https://localhost:8080/",
          "height": 121
        },
        "outputId": "e5ecce57-4329-4f7b-8845-abf906afe126"
      },
      "source": [
        "df1 = qr.select(df, 'tip, sex, smoker')        \n",
        "print(df1.head())\n"
      ],
      "execution_count": 22,
      "outputs": [
        {
          "output_type": "stream",
          "text": [
            "    tip     sex smoker\n",
            "0  1.01  Female     No\n",
            "1  1.66    Male     No\n",
            "2  3.50    Male     No\n",
            "3  3.31    Male     No\n",
            "4  3.61  Female     No\n"
          ],
          "name": "stdout"
        }
      ]
    },
    {
      "cell_type": "code",
      "metadata": {
        "id": "K18AQNt5e0gV",
        "colab_type": "code",
        "colab": {
          "base_uri": "https://localhost:8080/",
          "height": 104
        },
        "outputId": "396943bd-4f7f-4173-fe4e-0186ea4eb409"
      },
      "source": [
        "df2 = qr.select(df, 'tip, day, time', limit=4)        \n",
        "print(df2)"
      ],
      "execution_count": 27,
      "outputs": [
        {
          "output_type": "stream",
          "text": [
            "    tip  day    time\n",
            "0  1.01  Sun  Dinner\n",
            "1  1.66  Sun  Dinner\n",
            "2  3.50  Sun  Dinner\n",
            "3  3.31  Sun  Dinner\n"
          ],
          "name": "stdout"
        }
      ]
    },
    {
      "cell_type": "code",
      "metadata": {
        "id": "cZgT0-xWe2vi",
        "colab_type": "code",
        "colab": {
          "base_uri": "https://localhost:8080/",
          "height": 121
        },
        "outputId": "0f952105-6f05-4c9a-c762-93b77a5d536b"
      },
      "source": [
        "df3 = qr.select(df, 'smoker, day, total_bill', limit=5, random=True)        \n",
        "print(df3)"
      ],
      "execution_count": 24,
      "outputs": [
        {
          "output_type": "stream",
          "text": [
            "    smoker   day  total_bill\n",
            "230    Yes   Sat       24.01\n",
            "17      No   Sun       16.29\n",
            "83     Yes  Thur       32.68\n",
            "106    Yes   Sat       20.49\n",
            "123     No  Thur       15.95\n"
          ],
          "name": "stdout"
        }
      ]
    },
    {
      "cell_type": "code",
      "metadata": {
        "id": "XDyK25mye4Es",
        "colab_type": "code",
        "colab": {
          "base_uri": "https://localhost:8080/",
          "height": 121
        },
        "outputId": "8836837c-1b5d-4f8a-b209-00ca0ad1c4ea"
      },
      "source": [
        "df4 = qr.select(df, '*', limit=5)        \n",
        "print(df4)"
      ],
      "execution_count": 25,
      "outputs": [
        {
          "output_type": "stream",
          "text": [
            "   total_bill   tip     sex smoker  day    time  size\n",
            "0       16.99  1.01  Female     No  Sun  Dinner     2\n",
            "1       10.34  1.66    Male     No  Sun  Dinner     3\n",
            "2       21.01  3.50    Male     No  Sun  Dinner     3\n",
            "3       23.68  3.31    Male     No  Sun  Dinner     2\n",
            "4       24.59  3.61  Female     No  Sun  Dinner     4\n"
          ],
          "name": "stdout"
        }
      ]
    },
    {
      "cell_type": "code",
      "metadata": {
        "id": "ZIJVS3Qke6yN",
        "colab_type": "code",
        "colab": {
          "base_uri": "https://localhost:8080/",
          "height": 121
        },
        "outputId": "359af219-3aaf-4b9b-aaf6-a2a6d7ecfef6"
      },
      "source": [
        "df5 = qr.select(df, '*', limit=5, random=True) \n",
        "print(df5)    "
      ],
      "execution_count": 26,
      "outputs": [
        {
          "output_type": "stream",
          "text": [
            "     total_bill   tip     sex smoker   day    time  size\n",
            "109       14.31  4.00  Female    Yes   Sat  Dinner     2\n",
            "126        8.52  1.48    Male     No  Thur   Lunch     2\n",
            "66        16.45  2.47  Female     No   Sat  Dinner     2\n",
            "220       12.16  2.20    Male    Yes   Fri   Lunch     2\n",
            "98        21.01  3.00    Male    Yes   Fri  Dinner     2\n"
          ],
          "name": "stdout"
        }
      ]
    }
  ]
}