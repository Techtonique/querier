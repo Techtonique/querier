{
  "nbformat": 4,
  "nbformat_minor": 0,
  "metadata": {
    "colab": {
      "name": "querier_select.ipynb",
      "provenance": [],
      "collapsed_sections": []
    },
    "kernelspec": {
      "name": "python3",
      "display_name": "Python 3"
    }
  },
  "cells": [
    {
      "cell_type": "markdown",
      "metadata": {
        "id": "_jCaX27Tcob-",
        "colab_type": "text"
      },
      "source": [
        "This notebook presents some examples of use of [the querier](https://github.com/thierrymoudiki/querier), a query language for Python pandas Data Frames.\n",
        "\n",
        "Here, the focus is placed on function `select`. We start by installing the package from Github:"
      ]
    },
    {
      "cell_type": "code",
      "metadata": {
        "id": "xj9bOQw4cdI1",
        "colab_type": "code",
        "outputId": "1ba2da4d-608e-460d-dad0-9af8fbf229d9",
        "colab": {
          "base_uri": "https://localhost:8080/",
          "height": 193
        }
      },
      "source": [
        "!pip install git+https://github.com/thierrymoudiki/querier.git"
      ],
      "execution_count": 117,
      "outputs": [
        {
          "output_type": "stream",
          "text": [
            "Collecting git+https://github.com/thierrymoudiki/querier.git\n",
            "  Cloning https://github.com/thierrymoudiki/querier.git to /tmp/pip-req-build-sv48hvzq\n",
            "  Running command git clone -q https://github.com/thierrymoudiki/querier.git /tmp/pip-req-build-sv48hvzq\n",
            "Requirement already satisfied (use --upgrade to upgrade): querier==0.1.0 from git+https://github.com/thierrymoudiki/querier.git in /usr/local/lib/python3.6/dist-packages\n",
            "Building wheels for collected packages: querier\n",
            "  Building wheel for querier (setup.py) ... \u001b[?25l\u001b[?25hdone\n",
            "  Created wheel for querier: filename=querier-0.1.0-py2.py3-none-any.whl size=34998 sha256=85c7bbfbec4f402d9033540dc747ebcac624c2b6fe51cabbc0375dd74ecb99f2\n",
            "  Stored in directory: /tmp/pip-ephem-wheel-cache-hwi1rcsu/wheels/72/51/12/482886b6a3d8ac3c1b68990c0d230359d60da240cc74e2ab7c\n",
            "Successfully built querier\n"
          ],
          "name": "stdout"
        }
      ]
    },
    {
      "cell_type": "markdown",
      "metadata": {
        "id": "4rshpBrkdo_i",
        "colab_type": "text"
      },
      "source": [
        "Importing the packages necessary for our demo:"
      ]
    },
    {
      "cell_type": "code",
      "metadata": {
        "id": "gBtleE3-djIA",
        "colab_type": "code",
        "colab": {}
      },
      "source": [
        "import pandas as pd\n",
        "import querier as qr"
      ],
      "execution_count": 0,
      "outputs": []
    },
    {
      "cell_type": "markdown",
      "metadata": {
        "id": "FhQNfXeAfRPK",
        "colab_type": "text"
      },
      "source": [
        "Importing the dataset necessary for our demo:"
      ]
    },
    {
      "cell_type": "code",
      "metadata": {
        "id": "90exDPOudaI1",
        "colab_type": "code",
        "colab": {}
      },
      "source": [
        "url = ('https://raw.github.com/pandas-dev'\n",
        "   '/pandas/master/pandas/tests/data/tips.csv')\n",
        "df = pd.read_csv(url)"
      ],
      "execution_count": 0,
      "outputs": []
    },
    {
      "cell_type": "markdown",
      "metadata": {
        "id": "ScxfxuOsfVfe",
        "colab_type": "text"
      },
      "source": [
        "Using `qr.select`:"
      ]
    },
    {
      "cell_type": "code",
      "metadata": {
        "id": "o_Zd6BTCexXT",
        "colab_type": "code",
        "outputId": "f7fd8b88-bc0d-4016-d2de-9155dd5c7e60",
        "colab": {
          "base_uri": "https://localhost:8080/",
          "height": 121
        }
      },
      "source": [
        "df1 = qr.select(df, 'tip, sex, smoker')        \n",
        "print(df1.head())\n"
      ],
      "execution_count": 120,
      "outputs": [
        {
          "output_type": "stream",
          "text": [
            "    tip     sex smoker\n",
            "0  1.01  Female     No\n",
            "1  1.66    Male     No\n",
            "2  3.50    Male     No\n",
            "3  3.31    Male     No\n",
            "4  3.61  Female     No\n"
          ],
          "name": "stdout"
        }
      ]
    },
    {
      "cell_type": "code",
      "metadata": {
        "id": "K18AQNt5e0gV",
        "colab_type": "code",
        "outputId": "654e8f06-3675-4990-c03e-1e8e42a15bbf",
        "colab": {
          "base_uri": "https://localhost:8080/",
          "height": 104
        }
      },
      "source": [
        "df2 = qr.select(df, 'tip, day, time', limit=4)        \n",
        "print(df2)"
      ],
      "execution_count": 121,
      "outputs": [
        {
          "output_type": "stream",
          "text": [
            "    tip  day    time\n",
            "0  1.01  Sun  Dinner\n",
            "1  1.66  Sun  Dinner\n",
            "2  3.50  Sun  Dinner\n",
            "3  3.31  Sun  Dinner\n"
          ],
          "name": "stdout"
        }
      ]
    },
    {
      "cell_type": "code",
      "metadata": {
        "id": "cZgT0-xWe2vi",
        "colab_type": "code",
        "outputId": "38b68439-34ac-4e1f-d0ab-de6699d7432b",
        "colab": {
          "base_uri": "https://localhost:8080/",
          "height": 121
        }
      },
      "source": [
        "df3 = qr.select(df, 'smoker, day, total_bill', limit=5, random=True)        \n",
        "print(df3)"
      ],
      "execution_count": 122,
      "outputs": [
        {
          "output_type": "stream",
          "text": [
            "    smoker  day  total_bill\n",
            "209    Yes  Sat       12.76\n",
            "185     No  Sun       20.69\n",
            "151     No  Sun       13.13\n",
            "181    Yes  Sun       23.33\n",
            "98     Yes  Fri       21.01\n"
          ],
          "name": "stdout"
        }
      ]
    },
    {
      "cell_type": "code",
      "metadata": {
        "id": "XDyK25mye4Es",
        "colab_type": "code",
        "outputId": "aa26e258-2c9f-46f0-d09e-2bbe503a5bdf",
        "colab": {
          "base_uri": "https://localhost:8080/",
          "height": 121
        }
      },
      "source": [
        "df4 = qr.select(df, '*', limit=5)        \n",
        "print(df4)"
      ],
      "execution_count": 123,
      "outputs": [
        {
          "output_type": "stream",
          "text": [
            "   total_bill   tip     sex smoker  day    time  size\n",
            "0       16.99  1.01  Female     No  Sun  Dinner     2\n",
            "1       10.34  1.66    Male     No  Sun  Dinner     3\n",
            "2       21.01  3.50    Male     No  Sun  Dinner     3\n",
            "3       23.68  3.31    Male     No  Sun  Dinner     2\n",
            "4       24.59  3.61  Female     No  Sun  Dinner     4\n"
          ],
          "name": "stdout"
        }
      ]
    },
    {
      "cell_type": "code",
      "metadata": {
        "id": "ZIJVS3Qke6yN",
        "colab_type": "code",
        "outputId": "3ddfbd46-d292-496a-b172-718a45a9073c",
        "colab": {
          "base_uri": "https://localhost:8080/",
          "height": 121
        }
      },
      "source": [
        "df5 = qr.select(df, '*', limit=5, random=True) \n",
        "print(df5)    "
      ],
      "execution_count": 124,
      "outputs": [
        {
          "output_type": "stream",
          "text": [
            "     total_bill   tip     sex smoker   day    time  size\n",
            "109       14.31  4.00  Female    Yes   Sat  Dinner     2\n",
            "126        8.52  1.48    Male     No  Thur   Lunch     2\n",
            "66        16.45  2.47  Female     No   Sat  Dinner     2\n",
            "220       12.16  2.20    Male    Yes   Fri   Lunch     2\n",
            "98        21.01  3.00    Male    Yes   Fri  Dinner     2\n"
          ],
          "name": "stdout"
        }
      ]
    },
    {
      "cell_type": "code",
      "metadata": {
        "id": "5Q-c-S8iHWCl",
        "colab_type": "code",
        "colab": {}
      },
      "source": [
        "df6 = qr.select(df, 'tip, sex, smoker', order_by=\"tip, sex\") \n",
        "print(df6)    "
      ],
      "execution_count": 0,
      "outputs": []
    }
  ]
}