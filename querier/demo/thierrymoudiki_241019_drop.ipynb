{
  "nbformat": 4,
  "nbformat_minor": 0,
  "metadata": {
    "colab": {
      "name": "querier_drop.ipynb",
      "provenance": []
    },
    "kernelspec": {
      "name": "python3",
      "display_name": "Python 3"
    }
  },
  "cells": [
    {
      "cell_type": "markdown",
      "metadata": {
        "id": "_jCaX27Tcob-",
        "colab_type": "text"
      },
      "source": [
        "This notebook presents some examples of use of [the querier](https://github.com/thierrymoudiki/querier), a query language for Python pandas Data Frames.\n",
        "\n",
        "Here, the focus is placed on function `drop`. We start by installing the package from Github:"
      ]
    },
    {
      "cell_type": "code",
      "metadata": {
        "id": "xj9bOQw4cdI1",
        "colab_type": "code",
        "colab": {}
      },
      "source": [
        "pip install git+https://github.com/thierrymoudiki/querier.git"
      ],
      "execution_count": 0,
      "outputs": []
    },
    {
      "cell_type": "markdown",
      "metadata": {
        "id": "4rshpBrkdo_i",
        "colab_type": "text"
      },
      "source": [
        "Importing the packages necessary for our demo:"
      ]
    },
    {
      "cell_type": "code",
      "metadata": {
        "id": "gBtleE3-djIA",
        "colab_type": "code",
        "colab": {}
      },
      "source": [
        "import pandas as pd\n",
        "import querier as qr\n",
        "import numpy as np"
      ],
      "execution_count": 0,
      "outputs": []
    },
    {
      "cell_type": "markdown",
      "metadata": {
        "id": "FhQNfXeAfRPK",
        "colab_type": "text"
      },
      "source": [
        "Importing the dataset necessary for our demo:"
      ]
    },
    {
      "cell_type": "code",
      "metadata": {
        "id": "90exDPOudaI1",
        "colab_type": "code",
        "outputId": "451dfd4d-7e59-4670-d0cd-b37946864580",
        "colab": {
          "base_uri": "https://localhost:8080/",
          "height": 121
        }
      },
      "source": [
        "url = ('https://raw.github.com/pandas-dev'\n",
        "   '/pandas/master/pandas/tests/data/tips.csv')\n",
        "df = pd.read_csv(url)\n",
        "print(df.head())"
      ],
      "execution_count": 3,
      "outputs": [
        {
          "output_type": "stream",
          "text": [
            "   total_bill   tip     sex smoker  day    time  size\n",
            "0       16.99  1.01  Female     No  Sun  Dinner     2\n",
            "1       10.34  1.66    Male     No  Sun  Dinner     3\n",
            "2       21.01  3.50    Male     No  Sun  Dinner     3\n",
            "3       23.68  3.31    Male     No  Sun  Dinner     2\n",
            "4       24.59  3.61  Female     No  Sun  Dinner     4\n"
          ],
          "name": "stdout"
        }
      ]
    },
    {
      "cell_type": "markdown",
      "metadata": {
        "id": "ScxfxuOsfVfe",
        "colab_type": "text"
      },
      "source": [
        "Using `qr.drop`:"
      ]
    },
    {
      "cell_type": "code",
      "metadata": {
        "id": "2yBfq6nf6Abg",
        "colab_type": "code",
        "colab": {
          "base_uri": "https://localhost:8080/",
          "height": 260
        },
        "outputId": "9d8a2102-e141-4a2b-bd2e-84daf67eab3c"
      },
      "source": [
        "df1 = qr.drop(df, \"total_bill\")\n",
        "print(df1)        "
      ],
      "execution_count": 4,
      "outputs": [
        {
          "output_type": "stream",
          "text": [
            "      tip     sex smoker   day    time  size\n",
            "0    1.01  Female     No   Sun  Dinner     2\n",
            "1    1.66    Male     No   Sun  Dinner     3\n",
            "2    3.50    Male     No   Sun  Dinner     3\n",
            "3    3.31    Male     No   Sun  Dinner     2\n",
            "4    3.61  Female     No   Sun  Dinner     4\n",
            "..    ...     ...    ...   ...     ...   ...\n",
            "239  5.92    Male     No   Sat  Dinner     3\n",
            "240  2.00  Female    Yes   Sat  Dinner     2\n",
            "241  2.00    Male    Yes   Sat  Dinner     2\n",
            "242  1.75    Male     No   Sat  Dinner     2\n",
            "243  3.00  Female     No  Thur  Dinner     2\n",
            "\n",
            "[244 rows x 6 columns]\n"
          ],
          "name": "stdout"
        }
      ]
    },
    {
      "cell_type": "code",
      "metadata": {
        "id": "Vjw8DZNf6CsY",
        "colab_type": "code",
        "colab": {
          "base_uri": "https://localhost:8080/",
          "height": 260
        },
        "outputId": "e3ef0d07-d8a3-40ec-f2ea-c252780a4c6f"
      },
      "source": [
        "df2 = qr.drop(df, \"tip\")\n",
        "print(df2)                "
      ],
      "execution_count": 5,
      "outputs": [
        {
          "output_type": "stream",
          "text": [
            "     total_bill     sex smoker   day    time  size\n",
            "0         16.99  Female     No   Sun  Dinner     2\n",
            "1         10.34    Male     No   Sun  Dinner     3\n",
            "2         21.01    Male     No   Sun  Dinner     3\n",
            "3         23.68    Male     No   Sun  Dinner     2\n",
            "4         24.59  Female     No   Sun  Dinner     4\n",
            "..          ...     ...    ...   ...     ...   ...\n",
            "239       29.03    Male     No   Sat  Dinner     3\n",
            "240       27.18  Female    Yes   Sat  Dinner     2\n",
            "241       22.67    Male    Yes   Sat  Dinner     2\n",
            "242       17.82    Male     No   Sat  Dinner     2\n",
            "243       18.78  Female     No  Thur  Dinner     2\n",
            "\n",
            "[244 rows x 6 columns]\n"
          ],
          "name": "stdout"
        }
      ]
    },
    {
      "cell_type": "code",
      "metadata": {
        "id": "swN0ZL3l6EXg",
        "colab_type": "code",
        "colab": {
          "base_uri": "https://localhost:8080/",
          "height": 260
        },
        "outputId": "c47973bf-d66c-4cc0-d02d-fed7fd17e6ce"
      },
      "source": [
        "df3 = qr.drop(df, \"sex\")\n",
        "print(df3)                "
      ],
      "execution_count": 6,
      "outputs": [
        {
          "output_type": "stream",
          "text": [
            "     total_bill   tip smoker   day    time  size\n",
            "0         16.99  1.01     No   Sun  Dinner     2\n",
            "1         10.34  1.66     No   Sun  Dinner     3\n",
            "2         21.01  3.50     No   Sun  Dinner     3\n",
            "3         23.68  3.31     No   Sun  Dinner     2\n",
            "4         24.59  3.61     No   Sun  Dinner     4\n",
            "..          ...   ...    ...   ...     ...   ...\n",
            "239       29.03  5.92     No   Sat  Dinner     3\n",
            "240       27.18  2.00    Yes   Sat  Dinner     2\n",
            "241       22.67  2.00    Yes   Sat  Dinner     2\n",
            "242       17.82  1.75     No   Sat  Dinner     2\n",
            "243       18.78  3.00     No  Thur  Dinner     2\n",
            "\n",
            "[244 rows x 6 columns]\n"
          ],
          "name": "stdout"
        }
      ]
    },
    {
      "cell_type": "code",
      "metadata": {
        "id": "DZqB2Rp56GBP",
        "colab_type": "code",
        "colab": {
          "base_uri": "https://localhost:8080/",
          "height": 260
        },
        "outputId": "87c7365b-a258-42c1-a0fe-59578469eb61"
      },
      "source": [
        "df4 = qr.drop(df, \"smoker\")\n",
        "print(df4)                "
      ],
      "execution_count": 7,
      "outputs": [
        {
          "output_type": "stream",
          "text": [
            "     total_bill   tip     sex   day    time  size\n",
            "0         16.99  1.01  Female   Sun  Dinner     2\n",
            "1         10.34  1.66    Male   Sun  Dinner     3\n",
            "2         21.01  3.50    Male   Sun  Dinner     3\n",
            "3         23.68  3.31    Male   Sun  Dinner     2\n",
            "4         24.59  3.61  Female   Sun  Dinner     4\n",
            "..          ...   ...     ...   ...     ...   ...\n",
            "239       29.03  5.92    Male   Sat  Dinner     3\n",
            "240       27.18  2.00  Female   Sat  Dinner     2\n",
            "241       22.67  2.00    Male   Sat  Dinner     2\n",
            "242       17.82  1.75    Male   Sat  Dinner     2\n",
            "243       18.78  3.00  Female  Thur  Dinner     2\n",
            "\n",
            "[244 rows x 6 columns]\n"
          ],
          "name": "stdout"
        }
      ]
    },
    {
      "cell_type": "code",
      "metadata": {
        "id": "P9ijqDMh6HhA",
        "colab_type": "code",
        "colab": {
          "base_uri": "https://localhost:8080/",
          "height": 260
        },
        "outputId": "e559bde7-2495-4371-b708-d25500f59f0f"
      },
      "source": [
        "df5 = qr.drop(df, \"day\")\n",
        "print(df5)                "
      ],
      "execution_count": 8,
      "outputs": [
        {
          "output_type": "stream",
          "text": [
            "     total_bill   tip     sex smoker    time  size\n",
            "0         16.99  1.01  Female     No  Dinner     2\n",
            "1         10.34  1.66    Male     No  Dinner     3\n",
            "2         21.01  3.50    Male     No  Dinner     3\n",
            "3         23.68  3.31    Male     No  Dinner     2\n",
            "4         24.59  3.61  Female     No  Dinner     4\n",
            "..          ...   ...     ...    ...     ...   ...\n",
            "239       29.03  5.92    Male     No  Dinner     3\n",
            "240       27.18  2.00  Female    Yes  Dinner     2\n",
            "241       22.67  2.00    Male    Yes  Dinner     2\n",
            "242       17.82  1.75    Male     No  Dinner     2\n",
            "243       18.78  3.00  Female     No  Dinner     2\n",
            "\n",
            "[244 rows x 6 columns]\n"
          ],
          "name": "stdout"
        }
      ]
    },
    {
      "cell_type": "code",
      "metadata": {
        "id": "rh6yRm806JGv",
        "colab_type": "code",
        "colab": {
          "base_uri": "https://localhost:8080/",
          "height": 260
        },
        "outputId": "d71817cd-73e9-4c82-f893-2a3ce2ae8464"
      },
      "source": [
        "df6 = qr.drop(df, \"total_bill, tip, sex, day\")\n",
        "print(df6)        "
      ],
      "execution_count": 9,
      "outputs": [
        {
          "output_type": "stream",
          "text": [
            "    smoker    time  size\n",
            "0       No  Dinner     2\n",
            "1       No  Dinner     3\n",
            "2       No  Dinner     3\n",
            "3       No  Dinner     2\n",
            "4       No  Dinner     4\n",
            "..     ...     ...   ...\n",
            "239     No  Dinner     3\n",
            "240    Yes  Dinner     2\n",
            "241    Yes  Dinner     2\n",
            "242     No  Dinner     2\n",
            "243     No  Dinner     2\n",
            "\n",
            "[244 rows x 3 columns]\n"
          ],
          "name": "stdout"
        }
      ]
    }
  ]
}