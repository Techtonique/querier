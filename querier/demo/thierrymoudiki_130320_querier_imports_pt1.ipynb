{
  "nbformat": 4,
  "nbformat_minor": 0,
  "metadata": {
    "colab": {
      "name": "thierrymoudiki_130320_querier_imports_pt1.ipynb",
      "provenance": [],
      "collapsed_sections": []
    },
    "kernelspec": {
      "name": "python3",
      "display_name": "Python 3"
    }
  },
  "cells": [
    {
      "cell_type": "markdown",
      "metadata": {
        "id": "YEY2CBmGmX2V",
        "colab_type": "text"
      },
      "source": [
        "# Import data into the querier (Part 1)\n",
        "\n",
        "We illustrate how to import data into [the querier](https://github.com/thierrymoudiki/querier), a query language for Data Frames\n",
        ". \n",
        "\n",
        "First, in [example 1](#example-1), we import data __from csv__. Then in [example 2](#example-2) we import data __from a [relational database](https://en.wikipedia.org/wiki/Relational_database)__ (sqlite3). \n",
        "\n",
        "We start by installing the package from GitHub (command line):"
      ]
    },
    {
      "cell_type": "code",
      "metadata": {
        "id": "ETNnUGZnmJtq",
        "colab_type": "code",
        "colab": {}
      },
      "source": [
        "!pip install git+https://github.com/thierrymoudiki/querier.git"
      ],
      "execution_count": 0,
      "outputs": []
    },
    {
      "cell_type": "markdown",
      "metadata": {
        "id": "97H6XpE1oJgL",
        "colab_type": "text"
      },
      "source": [
        "## Example 1\n",
        "\n",
        "Import data __from csv__, and chain the querier's operations [`select`](https://github.com/thierrymoudiki/querier/blob/master/querier/demo/thierrymoudiki_231019_select.ipynb), [`filtr`](https://github.com/thierrymoudiki/querier/blob/master/querier/demo/thierrymoudiki_231019_filtr.ipynb), [`summarize`](https://github.com/thierrymoudiki/querier/blob/master/querier/demo/thierrymoudiki_231019_summarize.ipynb)."
      ]
    },
    {
      "cell_type": "code",
      "metadata": {
        "id": "qBYxqRLskRWX",
        "colab_type": "code",
        "colab": {
          "base_uri": "https://localhost:8080/",
          "height": 107
        },
        "outputId": "d9c4ec58-f9ab-4cf6-c3f3-9a952f83a935"
      },
      "source": [
        "import pandas as pd\n",
        "import querier as qr\n",
        "import sqlite3 \n",
        "import sys\n",
        "\n",
        "\n",
        "# data -----\n",
        "\n",
        "url = ('https://raw.github.com/pandas-dev'\n",
        "   '/pandas/master/pandas/tests/data/tips.csv')\n",
        "\n",
        "\n",
        "# Example 1 - Import from csv -----\n",
        "\n",
        "qrobj1 = qr.Querier(source=url)\n",
        "\n",
        "df1 = qrobj1\\\n",
        ".select(req=\"tip, sex, smoker, time\")\\\n",
        ".filtr(req=\"smoker == 'No'\")\\\n",
        ".summarize(req=\"sum(tip), sex, time\", group_by=\"sex, time\")\\\n",
        ".df\n",
        "\n",
        "print(df1)"
      ],
      "execution_count": 2,
      "outputs": [
        {
          "output_type": "stream",
          "text": [
            "   sum_tip     sex    time\n",
            "0    88.28  Female  Dinner\n",
            "1    61.49  Female   Lunch\n",
            "2   243.17    Male  Dinner\n",
            "3    58.83    Male   Lunch\n"
          ],
          "name": "stdout"
        }
      ]
    },
    {
      "cell_type": "markdown",
      "metadata": {
        "id": "JldhVRlzpZZ_",
        "colab_type": "text"
      },
      "source": [
        "## Example 2"
      ]
    },
    {
      "cell_type": "markdown",
      "metadata": {
        "id": "PduyaLJLpg3v",
        "colab_type": "text"
      },
      "source": [
        "Import data __from an sqlite3 database__, and chain the querier's operations [`select`](https://github.com/thierrymoudiki/querier/blob/master/querier/demo/thierrymoudiki_231019_select.ipynb), [`filter`](https://github.com/thierrymoudiki/querier/blob/master/querier/demo/thierrymoudiki_231019_filtr.ipynb), [`summarize`](https://github.com/thierrymoudiki/querier/blob/master/querier/demo/thierrymoudiki_231019_summarize.ipynb)."
      ]
    },
    {
      "cell_type": "code",
      "metadata": {
        "id": "XNuMp35JmGV-",
        "colab_type": "code",
        "colab": {
          "base_uri": "https://localhost:8080/",
          "height": 251
        },
        "outputId": "f7e853a7-c295-4cd8-e820-2eaff2f53b8a"
      },
      "source": [
        "# Example 2 - Import from sqlite3 -----\n",
        "\n",
        "# an sqlite3 database  connexion\n",
        "con = sqlite3.connect('people.db')\n",
        " \n",
        "with con:\n",
        "    cur = con.cursor()    \n",
        "    cur.execute(\"CREATE TABLE Population(id INTEGER PRIMARY KEY, name TEXT, age INT, sex TEXT)\")\n",
        "    cur.execute(\"INSERT INTO Population VALUES(NULL,'Michael',19, 'M')\")\n",
        "    cur.execute(\"INSERT INTO Population VALUES(NULL,'Sandy', 41, 'F')\")\n",
        "    cur.execute(\"INSERT INTO Population VALUES(NULL,'Betty', 34, 'F')\")\n",
        "    cur.execute(\"INSERT INTO Population VALUES(NULL,'Chuck', 12, 'M')\")\n",
        "    cur.execute(\"INSERT INTO Population VALUES(NULL,'Rich', 24, 'M')\")\n",
        "    \n",
        "# create querier object from the sqlite3 database \n",
        "qrobj2 = qr.Querier(source='people.db', table=\"Population\")    \n",
        "\n",
        "# filter on people with age >= 20\n",
        "df2 = qrobj2.select(req=\"name, age, sex\").filtr(req=\"age >= 20\").df\n",
        "\n",
        "print(\"df2: \")\n",
        "print(df2)\n",
        "print(\"\\n\")\n",
        "\n",
        "# avg. age for people with age >= 20, groupped by sex\n",
        "qrobj3 = qr.Querier(source='people.db', table=\"Population\")  \n",
        "df3 = qrobj3.select(req=\"name, age, sex\").filtr(req=\"age >= 20\")\\\n",
        ".summarize(\"avg(age), sex\", group_by=\"sex\").df\n",
        "\n",
        "print(\"df3: \")\n",
        "print(df3)\n",
        "print(\"\\n\")"
      ],
      "execution_count": 3,
      "outputs": [
        {
          "output_type": "stream",
          "text": [
            "df2: \n",
            "    name  age sex\n",
            "1  Sandy   41   F\n",
            "2  Betty   34   F\n",
            "4   Rich   24   M\n",
            "\n",
            "\n",
            "df3: \n",
            "   avg_age sex\n",
            "0     37.5   F\n",
            "1     24.0   M\n",
            "\n",
            "\n"
          ],
          "name": "stdout"
        }
      ]
    }
  ]
}